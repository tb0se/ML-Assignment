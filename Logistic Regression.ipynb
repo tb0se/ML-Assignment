{
 "cells": [
  {
   "cell_type": "markdown",
   "metadata": {},
   "source": [
    "# Logistic Regression for classification"
   ]
  },
  {
   "cell_type": "code",
   "execution_count": 1,
   "metadata": {},
   "outputs": [],
   "source": [
    "import numpy as np\n",
    "import pandas as pd\n",
    "import matplotlib.pyplot as plt"
   ]
  },
  {
   "cell_type": "code",
   "execution_count": 2,
   "metadata": {},
   "outputs": [],
   "source": [
    "rawdata = pd.read_excel('Job_Postings(clean).xlsx')\n",
    "# Drop columns\n",
    "dataset = rawdata.drop(columns=['job_id','company_profile', 'description','requirements','benefits'])"
   ]
  },
  {
   "cell_type": "markdown",
   "metadata": {},
   "source": [
    "## The features and the target class of the dataset"
   ]
  },
  {
   "cell_type": "code",
   "execution_count": 3,
   "metadata": {},
   "outputs": [
    {
     "name": "stdout",
     "output_type": "stream",
     "text": [
      "features: \n",
      " ['title' 'location' 'department' 'salary_range' 'telecommuting'\n",
      " 'has_company_logo' 'has_questions' 'employment_type'\n",
      " 'required_experience' 'required_education' 'industry' 'function'] \n",
      "\n",
      "target class: \n",
      " fraudulent\n"
     ]
    }
   ],
   "source": [
    "features = dataset.columns[1:dataset.columns.shape[0]-1].to_numpy()\n",
    "print('features:', '\\n', features, '\\n')\n",
    "\n",
    "target_class = dataset.columns[dataset.columns.shape[0]-1]\n",
    "print('target class:', '\\n', target_class)"
   ]
  },
  {
   "cell_type": "markdown",
   "metadata": {},
   "source": [
    "## Split dataset into inputs and targets"
   ]
  },
  {
   "cell_type": "code",
   "execution_count": 4,
   "metadata": {},
   "outputs": [
    {
     "name": "stdout",
     "output_type": "stream",
     "text": [
      "Input: (17880, 12)\n",
      "Targets: (17880,)\n"
     ]
    }
   ],
   "source": [
    "X = dataset.loc[:,'title':'function']\n",
    "Y = dataset['fraudulent']\n",
    "print(\"Input:\",X.shape)\n",
    "print(\"Targets:\",Y.shape)"
   ]
  },
  {
   "cell_type": "markdown",
   "metadata": {},
   "source": [
    "## Encode the catagorical data"
   ]
  },
  {
   "cell_type": "code",
   "execution_count": 5,
   "metadata": {},
   "outputs": [
    {
     "data": {
      "text/plain": [
       "(17880, 15774)"
      ]
     },
     "execution_count": 5,
     "metadata": {},
     "output_type": "execute_result"
    }
   ],
   "source": [
    "# categorical = ['title','location','department','salary_range','employment_type','required_experience','required_education','industry','function']\n",
    "# columns = X.loc[:,categorical]\n",
    "# X = pd.get_dummies(data=columns,drop_first=True)\n",
    "# X.head()\n",
    "\n",
    "# Using dict vectorizer\n",
    "\n",
    "# turn X into dict\n",
    "X_dict = X.to_dict(orient='records') \n",
    "\n",
    "# DictVectorizer\n",
    "from sklearn.feature_extraction import DictVectorizer\n",
    "# instantiate a Dictvectorizer object for X\n",
    "dv_X = DictVectorizer(sparse=False) \n",
    "# sparse = False makes the output is not a sparse matrix\n",
    "\n",
    "# apply dv_X on X_dict\n",
    "X_encoded = dv_X.fit_transform(X_dict)# show X_encoded\n",
    "X_encoded.shape"
   ]
  },
  {
   "cell_type": "markdown",
   "metadata": {},
   "source": [
    "## Split the dataset"
   ]
  },
  {
   "cell_type": "code",
   "execution_count": 6,
   "metadata": {},
   "outputs": [
    {
     "name": "stdout",
     "output_type": "stream",
     "text": [
      "Training data:  (10729, 15774) (10729,)\n",
      "Validation data:  (5722, 15774) (5723,)\n",
      "Test data:  (1428, 15774) \n",
      "\n",
      "training data example item: \n",
      "\n",
      " [0. 0. 0. ... 0. 0. 0.]\n"
     ]
    }
   ],
   "source": [
    "X_train = X_encoded[:10729]\n",
    "Y_train = Y.loc[:10728]\n",
    "\n",
    "X_validation = X_encoded[10729:16451]\n",
    "Y_validation = Y.loc[10729:16451]\n",
    "\n",
    "X_test= X_encoded[16452:]\n",
    "Y_test= Y.loc[16452:]\n",
    "\n",
    "print(\"Training data: \",X_train.shape,Y_train.shape)\n",
    "print(\"Validation data: \",X_validation.shape,Y_validation.shape)\n",
    "print(\"Test data: \",X_test.shape,'\\n')\n",
    "\n",
    "print('training data example item:','\\n\\n', X_train[0])"
   ]
  },
  {
   "cell_type": "markdown",
   "metadata": {},
   "source": [
    "## Train a Logistic Regression Model"
   ]
  },
  {
   "cell_type": "code",
   "execution_count": 7,
   "metadata": {},
   "outputs": [],
   "source": [
    "class LogisticRegression:\n",
    "    \n",
    "    def __init__(self, α=0.7, no_iter=7000):\n",
    "        self.learn_rate = α\n",
    "        self.no_iter = no_iter\n",
    "        self.weights = None\n",
    "        \n",
    "    def _sigmoid(self,z):\n",
    "        return 1 / (1 + np.exp(-z))\n",
    "\n",
    "    def loss_function(self,h, y):\n",
    "        return (-y * np.log(h) - (1 - y) * np.log(1 - h)).mean()\n",
    "\n",
    "    def fit(self,X,Y):\n",
    "        # Initialise paramters\n",
    "        no_datapoints,no_features = X.shape\n",
    "        self.weights = np.zeros(no_features)\n",
    "        θ_old = np.ones(no_features)\n",
    "        \n",
    "        #Gradient Descent\n",
    "        count= 0\n",
    "        while np.sqrt(np.sum(np.power(self.weights - θ_old, 2))) > 0.001 and count != self.no_iter:\n",
    "            θ_old = self.weights\n",
    "            z = np.dot(X, self.weights)\n",
    "            h = self._sigmoid(z)\n",
    "            \n",
    "            dw = (1/no_datapoints)*np.dot(X.T,(h-Y))\n",
    "            # Update weight\n",
    "            self.weights = self.weights - self.learn_rate*dw\n",
    "            # increment count\n",
    "            count +=1\n",
    "        print(count)\n",
    "    \n",
    "    def predict(self,X):\n",
    "        z = np.dot(X, self.weights)\n",
    "        h = self._sigmoid(z)\n",
    "        return h\n"
   ]
  },
  {
   "cell_type": "code",
   "execution_count": null,
   "metadata": {},
   "outputs": [],
   "source": []
  },
  {
   "cell_type": "markdown",
   "metadata": {},
   "source": [
    "### 1. Create a model"
   ]
  },
  {
   "cell_type": "code",
   "execution_count": 8,
   "metadata": {},
   "outputs": [],
   "source": [
    "logreg_model =  LogisticRegression()"
   ]
  },
  {
   "cell_type": "markdown",
   "metadata": {},
   "source": [
    "### 2. Train the model\n",
    "i.e Fit"
   ]
  },
  {
   "cell_type": "code",
   "execution_count": 9,
   "metadata": {},
   "outputs": [
    {
     "name": "stdout",
     "output_type": "stream",
     "text": [
      "7000\n",
      "Final weights: [ 0.22232048 -0.03681768  0.         ... -0.00162703  0.\n",
      " -0.00584049]\n"
     ]
    }
   ],
   "source": [
    "logreg_model.fit(X_train,Y_train)\n",
    "print(\"Final weights:\",logreg_model.weights)"
   ]
  },
  {
   "cell_type": "markdown",
   "metadata": {},
   "source": [
    "### 3. Model Predictions"
   ]
  },
  {
   "cell_type": "code",
   "execution_count": 10,
   "metadata": {},
   "outputs": [
    {
     "name": "stdout",
     "output_type": "stream",
     "text": [
      "0    10268\n",
      "1      461\n",
      "Name: fraudulent, dtype: int64\n",
      "0    1093\n",
      "1     335\n",
      "Name: fraudulent, dtype: int64\n",
      "<class 'numpy.int64'>\n"
     ]
    }
   ],
   "source": [
    "print(Y_train.value_counts())\n",
    "print(Y_test.value_counts())\n",
    "print(type(Y_test.to_numpy()[0]))"
   ]
  },
  {
   "cell_type": "code",
   "execution_count": 11,
   "metadata": {},
   "outputs": [
    {
     "name": "stdout",
     "output_type": "stream",
     "text": [
      "(1428,)\n",
      "<class 'numpy.ndarray'>\n"
     ]
    }
   ],
   "source": [
    "model_predictions = logreg_model.predict(X_test)\n",
    "print(model_predictions.shape)\n",
    "print(type(model_predictions))"
   ]
  },
  {
   "cell_type": "code",
   "execution_count": 46,
   "metadata": {},
   "outputs": [
    {
     "name": "stdout",
     "output_type": "stream",
     "text": [
      "Frauduelent: (81,)\n",
      "Real: (1347,)\n",
      "81\n"
     ]
    }
   ],
   "source": [
    "frauduluent = np.where(model_predictions >= 0.5)[0]\n",
    "real = np.where(model_predictions < 0.5)[0]\n",
    "print(\"Frauduelent:\",frauduluent.shape)\n",
    "print(\"Real:\",real.shape)\n",
    "final_predictions = np.zeros(model_predictions.shape)\n",
    "final_predictions[frauduluent] = 1\n",
    "final_predictions[real] = 0\n",
    "print(len(frauduluent))"
   ]
  },
  {
   "cell_type": "code",
   "execution_count": 47,
   "metadata": {},
   "outputs": [],
   "source": [
    "X_to_plot = ('Real','Fradulent')\n",
    "y_to_plot = [len(real),len(frauduluent)]\n",
    "y_plot = np.arange(len(X_to_plot))"
   ]
  },
  {
   "cell_type": "code",
   "execution_count": 74,
   "metadata": {},
   "outputs": [
    {
     "data": {
      "image/png": "[encoded data removed]",
      "text/plain": [
       "<Figure size 500x500 with 1 Axes>"
      ]
     },
     "metadata": {},
     "output_type": "display_data"
    }
   ],
   "source": [
    "fig = plt.figure(figsize = (5, 5))\n",
    "plt.bar(y_plot, y_to_plot, align='center', alpha=1)\n",
    "plt.xticks(y_plot, X_to_plot)\n",
    "plt.ylabel(\"number of job postings\")\n",
    "plt.xlabel(\"job postings\")\n",
    "plt.show()"
   ]
  },
  {
   "cell_type": "markdown",
   "metadata": {},
   "source": [
    "## Performance"
   ]
  },
  {
   "cell_type": "code",
   "execution_count": 15,
   "metadata": {},
   "outputs": [],
   "source": [
    "from sklearn.metrics import confusion_matrix\n",
    "import matplotlib.pyplot as plt"
   ]
  },
  {
   "cell_type": "code",
   "execution_count": 16,
   "metadata": {},
   "outputs": [],
   "source": [
    "# targets = Y_test.to_numpy().astype(float)"
   ]
  },
  {
   "cell_type": "code",
   "execution_count": 17,
   "metadata": {},
   "outputs": [
    {
     "name": "stdout",
     "output_type": "stream",
     "text": [
      "[[1088    5]\n",
      " [ 259   76]]\n"
     ]
    },
    {
     "data": {
      "image/png": "[encoded data removed]",
      "text/plain": [
       "<Figure size 432x288 with 2 Axes>"
      ]
     },
     "metadata": {
      "needs_background": "light"
     },
     "output_type": "display_data"
    }
   ],
   "source": [
    "cm = confusion_matrix(Y_test.to_numpy(),final_predictions)\n",
    "print(cm)\n",
    "fig = plt.figure()\n",
    "ax = fig.add_subplot(111)\n",
    "cax = ax.matshow(cm)\n",
    "plt.title(\"Confusion Matrix (Test Data)\")\n",
    "fig.colorbar(cax)\n",
    "# ax.set_xticklabels(['']+class_labels)\n",
    "# ax.set_yticklabels(['']+class_labels)\n",
    "plt.xlabel('Predicted')\n",
    "plt.ylabel('True')\n",
    "plt.show()"
   ]
  },
  {
   "cell_type": "code",
   "execution_count": 18,
   "metadata": {},
   "outputs": [],
   "source": [
    "# from sklearn.linear_model import LogisticRegression\n",
    "# model = LogisticRegression(C=1e20,max_iter= 10000)\n",
    "# model.fit(X_train,Y_train)"
   ]
  },
  {
   "cell_type": "code",
   "execution_count": null,
   "metadata": {},
   "outputs": [],
   "source": []
  },
  {
   "cell_type": "code",
   "execution_count": null,
   "metadata": {},
   "outputs": [],
   "source": []
  }
 ],
 "metadata": {
  "kernelspec": {
   "display_name": "Python 3",
   "language": "python",
   "name": "python3"
  },
  "language_info": {
   "codemirror_mode": {
    "name": "ipython",
    "version": 3
   },
   "file_extension": ".py",
   "mimetype": "text/x-python",
   "name": "python",
   "nbconvert_exporter": "python",
   "pygments_lexer": "ipython3",
   "version": "3.7.6"
  }
 },
 "nbformat": 4,
 "nbformat_minor": 4
}
